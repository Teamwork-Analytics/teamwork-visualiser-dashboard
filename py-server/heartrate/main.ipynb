{
 "cells": [
  {
   "cell_type": "code",
   "execution_count": 2,
   "metadata": {},
   "outputs": [],
   "source": [
    "DIRECTORY = \"C:\\\\Work\\\\teamwork-visualiser-dashboard\\\\server\\\\saved_data\"\n",
    "\n",
    "import pandas as pd"
   ]
  },
  {
   "cell_type": "code",
   "execution_count": 6,
   "metadata": {},
   "outputs": [
    {
     "name": "stderr",
     "output_type": "stream",
     "text": [
      "C:\\Users\\riord\\AppData\\Local\\Temp\\ipykernel_5760\\1033293908.py:7: FutureWarning: 'S' is deprecated and will be removed in a future version, please use 's' instead.\n",
      "  resampled_df = df.resample('1S').last()\n",
      "C:\\Users\\riord\\AppData\\Local\\Temp\\ipykernel_5760\\1033293908.py:10: FutureWarning: DataFrame.fillna with 'method' is deprecated and will raise in a future version. Use obj.ffill() or obj.bfill() instead.\n",
      "  resampled_df.fillna(method='ffill', inplace=True)\n"
     ]
    }
   ],
   "source": [
    "# Load the data\n",
    "\n",
    "PATH = DIRECTORY + \"\\\\291\\\\\" + 'heart rate-red.csv'\n",
    "df = pd.read_csv(PATH, parse_dates=['Server Time'], index_col='Server Time')\n",
    "\n",
    "# Resample the data to 1Hz frequency, taking the last value if there are multiple within one second\n",
    "resampled_df = df.resample('1S').last()\n",
    "\n",
    "# Drop rows with NaN values that may appear after resampling\n",
    "resampled_df.fillna(method='ffill', inplace=True)\n",
    "\n",
    "# Save the resampled data to a new CSV file\n",
    "resampled_df.to_csv('resampled_data.csv')"
   ]
  },
  {
   "cell_type": "code",
   "execution_count": null,
   "metadata": {},
   "outputs": [],
   "source": [
    "# Load the positioning data\n",
    "position_df = pd.read_csv('position.csv')\n",
    "\n",
    "# Load the heart rate data\n",
    "heart_rate_df = pd.read_csv('heart_rate.csv')\n",
    "\n",
    "# Convert 'audio time' to a timedelta and add it to 'audio_start_timestamp' to align timestamps\n",
    "position_df['audio_start_timestamp'] = pd.to_datetime(position_df['audio_start_timestamp'], unit='s')\n",
    "position_df['audio_time_td'] = pd.to_timedelta(position_df['audio time'])\n",
    "position_df['aligned_timestamp'] = position_df['audio_start_timestamp'] + position_df['audio_time_td']\n",
    "\n",
    "# Ensure the heart rate timestamp is in datetime format\n",
    "heart_rate_df['timestamp'] = pd.to_datetime(heart_rate_df['timestamp'])\n",
    "\n",
    "# Merge the dataframes on the nearest 'aligned_timestamp'\n",
    "merged_df = pd.merge_asof(position_df.sort_values('aligned_timestamp'),\n",
    "                          heart_rate_df[['timestamp', 'heart_rate']].sort_values('timestamp'),\n",
    "                          left_on='aligned_timestamp', right_on='timestamp',\n",
    "                          direction='nearest')\n",
    "\n",
    "# Drop the extra columns and save the merged dataframe to a new CSV file\n",
    "merged_df.drop(columns=['audio_start_timestamp', 'audio_time_td', 'timestamp'], inplace=True)\n",
    "merged_df.to_csv('merged_position_heart_rate.csv', index=False)"
   ]
  }
 ],
 "metadata": {
  "kernelspec": {
   "display_name": "env",
   "language": "python",
   "name": "python3"
  },
  "language_info": {
   "codemirror_mode": {
    "name": "ipython",
    "version": 3
   },
   "file_extension": ".py",
   "mimetype": "text/x-python",
   "name": "python",
   "nbconvert_exporter": "python",
   "pygments_lexer": "ipython3",
   "version": "3.12.3"
  }
 },
 "nbformat": 4,
 "nbformat_minor": 2
}
