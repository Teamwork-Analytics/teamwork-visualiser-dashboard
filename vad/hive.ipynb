{
 "cells": [
  {
   "cell_type": "code",
   "execution_count": null,
   "metadata": {},
   "outputs": [],
   "source": [
    "\"\"\"\n",
    "@author Riordan Dervin Alfredo <riordan.alfredo@monash.edu>\n",
    "\"\"\"\n",
    "# Run to extract all pozyx position data\n",
    "# json -> csv\n",
    "%run pozyx_extraction.py -p \"data/145/145.json\" -o \"out/pos/\" -s \"data/145/\""
   ]
  },
  {
   "cell_type": "code",
   "execution_count": 3,
   "metadata": {},
   "outputs": [
    {
     "name": "stdout",
     "output_type": "stream",
     "text": [
      "^C\n"
     ]
    }
   ],
   "source": [
    "# install it separately https://ffmpeg.org/. Use this to re-sample audio data to 48KHz \n",
    "!ffmpeg -i \"./data/145/simulation_GREEN_10-Aug-2021_15-36-35-439_audio.wav\" -ar 48000 \"./data/145/sim_green.wav\""
   ]
  },
  {
   "cell_type": "code",
   "execution_count": 16,
   "metadata": {},
   "outputs": [
    {
     "name": "stdout",
     "output_type": "stream",
     "text": [
      "start\n",
      "here\n",
      " before vad\n",
      "1988.9168333333334\n",
      "thread_started: speech2text thread 0\n",
      "thread_started: speech2text thread 1\n",
      "thread_started: speech2text thread 2\n"
     ]
    },
    {
     "data": {
      "application/vnd.jupyter.widget-view+json": {
       "model_id": "f5666d214a18464484b7ac9393ffe80f",
       "version_major": 2,
       "version_minor": 0
      },
      "text/plain": [
       "0it [00:00, ?it/s]"
      ]
     },
     "metadata": {},
     "output_type": "display_data"
    },
    {
     "data": {
      "application/vnd.jupyter.widget-view+json": {
       "model_id": "4975e6c79ce44315a70d1ad1a0cf5a51",
       "version_major": 2,
       "version_minor": 0
      },
      "text/plain": [
       "0it [00:00, ?it/s]"
      ]
     },
     "metadata": {},
     "output_type": "display_data"
    },
    {
     "data": {
      "application/vnd.jupyter.widget-view+json": {
       "model_id": "2cb1f86113334084830eb0095418ddac",
       "version_major": 2,
       "version_minor": 0
      },
      "text/plain": [
       "0it [00:00, ?it/s]"
      ]
     },
     "metadata": {},
     "output_type": "display_data"
    },
    {
     "name": "stdout",
     "output_type": "stream",
     "text": [
      "thread_finished: speech2text thread 0\n",
      "thread_finished: speech2text thread 1\n",
      "thread_finished: speech2text thread 2\n",
      "object\n"
     ]
    }
   ],
   "source": [
    "# TODO: replace audio file name!\n",
    "# A script to convert speech to text, wav -> csv\n",
    "%run hive_automation.py -a \"data/145/sim_blue.wav\" -o \"out/audio-sim/145_blue.csv\" -s \"145\" -w \"1\" -t \"3\""
   ]
  },
  {
   "cell_type": "code",
   "execution_count": 17,
   "metadata": {},
   "outputs": [],
   "source": [
    "import pandas as pd\n",
    "from datetime import datetime\n",
    "\n",
    "colour = \"BLUE\"\n",
    "session = \"145\"\n",
    "pos_dir = './out/pos'\n",
    "audio_sim_dir = './out/audio-sim'"
   ]
  },
  {
   "cell_type": "code",
   "execution_count": 18,
   "metadata": {},
   "outputs": [
    {
     "data": {
      "text/html": [
       "<div>\n",
       "<style scoped>\n",
       "    .dataframe tbody tr th:only-of-type {\n",
       "        vertical-align: middle;\n",
       "    }\n",
       "\n",
       "    .dataframe tbody tr th {\n",
       "        vertical-align: top;\n",
       "    }\n",
       "\n",
       "    .dataframe thead th {\n",
       "        text-align: right;\n",
       "    }\n",
       "</style>\n",
       "<table border=\"1\" class=\"dataframe\">\n",
       "  <thead>\n",
       "    <tr style=\"text-align: right;\">\n",
       "      <th></th>\n",
       "      <th>Unnamed: 0</th>\n",
       "      <th>audio_start_timestamp</th>\n",
       "      <th>audio time</th>\n",
       "      <th>x</th>\n",
       "      <th>y</th>\n",
       "    </tr>\n",
       "  </thead>\n",
       "  <tbody>\n",
       "    <tr>\n",
       "      <th>0</th>\n",
       "      <td>0</td>\n",
       "      <td>1.628574e+09</td>\n",
       "      <td>0:00:01</td>\n",
       "      <td>630.094718</td>\n",
       "      <td>-2095.770178</td>\n",
       "    </tr>\n",
       "    <tr>\n",
       "      <th>1</th>\n",
       "      <td>1</td>\n",
       "      <td>1.628574e+09</td>\n",
       "      <td>0:00:02</td>\n",
       "      <td>663.855120</td>\n",
       "      <td>-2031.993700</td>\n",
       "    </tr>\n",
       "    <tr>\n",
       "      <th>2</th>\n",
       "      <td>2</td>\n",
       "      <td>1.628574e+09</td>\n",
       "      <td>0:00:03</td>\n",
       "      <td>705.527272</td>\n",
       "      <td>-1984.790910</td>\n",
       "    </tr>\n",
       "    <tr>\n",
       "      <th>3</th>\n",
       "      <td>3</td>\n",
       "      <td>1.628574e+09</td>\n",
       "      <td>0:00:04</td>\n",
       "      <td>721.159433</td>\n",
       "      <td>-1949.950277</td>\n",
       "    </tr>\n",
       "    <tr>\n",
       "      <th>4</th>\n",
       "      <td>4</td>\n",
       "      <td>1.628574e+09</td>\n",
       "      <td>0:00:05</td>\n",
       "      <td>703.795580</td>\n",
       "      <td>-1930.613260</td>\n",
       "    </tr>\n",
       "  </tbody>\n",
       "</table>\n",
       "</div>"
      ],
      "text/plain": [
       "   Unnamed: 0  audio_start_timestamp audio time           x            y\n",
       "0           0           1.628574e+09    0:00:01  630.094718 -2095.770178\n",
       "1           1           1.628574e+09    0:00:02  663.855120 -2031.993700\n",
       "2           2           1.628574e+09    0:00:03  705.527272 -1984.790910\n",
       "3           3           1.628574e+09    0:00:04  721.159433 -1949.950277\n",
       "4           4           1.628574e+09    0:00:05  703.795580 -1930.613260"
      ]
     },
     "execution_count": 18,
     "metadata": {},
     "output_type": "execute_result"
    }
   ],
   "source": [
    "\n",
    "\n",
    "dfp = pd.read_csv('{}/{}_{}.csv'.format(pos_dir,session,colour))\n",
    "dfa = pd.read_csv('{}/{}_{}.csv'.format(audio_sim_dir,session,colour))\n",
    "\n",
    "dfp.head()"
   ]
  },
  {
   "cell_type": "code",
   "execution_count": 19,
   "metadata": {},
   "outputs": [
    {
     "data": {
      "text/html": [
       "<div>\n",
       "<style scoped>\n",
       "    .dataframe tbody tr th:only-of-type {\n",
       "        vertical-align: middle;\n",
       "    }\n",
       "\n",
       "    .dataframe tbody tr th {\n",
       "        vertical-align: top;\n",
       "    }\n",
       "\n",
       "    .dataframe thead th {\n",
       "        text-align: right;\n",
       "    }\n",
       "</style>\n",
       "<table border=\"1\" class=\"dataframe\">\n",
       "  <thead>\n",
       "    <tr style=\"text-align: right;\">\n",
       "      <th></th>\n",
       "      <th>audio_start_timestamp</th>\n",
       "      <th>audio time</th>\n",
       "      <th>x</th>\n",
       "      <th>y</th>\n",
       "      <th>audio</th>\n",
       "      <th>tagId</th>\n",
       "    </tr>\n",
       "  </thead>\n",
       "  <tbody>\n",
       "    <tr>\n",
       "      <th>0</th>\n",
       "      <td>1.628574e+09</td>\n",
       "      <td>0:00:01</td>\n",
       "      <td>630.094718</td>\n",
       "      <td>-2095.770178</td>\n",
       "      <td>0</td>\n",
       "      <td>BLUE</td>\n",
       "    </tr>\n",
       "    <tr>\n",
       "      <th>1</th>\n",
       "      <td>1.628574e+09</td>\n",
       "      <td>0:00:02</td>\n",
       "      <td>663.855120</td>\n",
       "      <td>-2031.993700</td>\n",
       "      <td>0</td>\n",
       "      <td>BLUE</td>\n",
       "    </tr>\n",
       "    <tr>\n",
       "      <th>2</th>\n",
       "      <td>1.628574e+09</td>\n",
       "      <td>0:00:03</td>\n",
       "      <td>705.527272</td>\n",
       "      <td>-1984.790910</td>\n",
       "      <td>0</td>\n",
       "      <td>BLUE</td>\n",
       "    </tr>\n",
       "    <tr>\n",
       "      <th>3</th>\n",
       "      <td>1.628574e+09</td>\n",
       "      <td>0:00:04</td>\n",
       "      <td>721.159433</td>\n",
       "      <td>-1949.950277</td>\n",
       "      <td>0</td>\n",
       "      <td>BLUE</td>\n",
       "    </tr>\n",
       "    <tr>\n",
       "      <th>4</th>\n",
       "      <td>1.628574e+09</td>\n",
       "      <td>0:00:05</td>\n",
       "      <td>703.795580</td>\n",
       "      <td>-1930.613260</td>\n",
       "      <td>0</td>\n",
       "      <td>BLUE</td>\n",
       "    </tr>\n",
       "  </tbody>\n",
       "</table>\n",
       "</div>"
      ],
      "text/plain": [
       "   audio_start_timestamp audio time           x            y  audio tagId\n",
       "0           1.628574e+09    0:00:01  630.094718 -2095.770178      0  BLUE\n",
       "1           1.628574e+09    0:00:02  663.855120 -2031.993700      0  BLUE\n",
       "2           1.628574e+09    0:00:03  705.527272 -1984.790910      0  BLUE\n",
       "3           1.628574e+09    0:00:04  721.159433 -1949.950277      0  BLUE\n",
       "4           1.628574e+09    0:00:05  703.795580 -1930.613260      0  BLUE"
      ]
     },
     "execution_count": 19,
     "metadata": {},
     "output_type": "execute_result"
    }
   ],
   "source": [
    "res = pd.merge(dfp, dfa, on=\"audio time\")\n",
    "final = res.drop(labels=[\"Unnamed: 0_x\", \"Unnamed: 0_y\", \"session\"], axis=1)\n",
    "final['tagId'] = colour\n",
    "final.head()\n"
   ]
  },
  {
   "cell_type": "code",
   "execution_count": 21,
   "metadata": {},
   "outputs": [],
   "source": [
    "\n",
    "final.to_csv(\"./out/result/{}_{}.csv\".format(session,colour), sep=',', encoding='utf-8', index=False)\n",
    "\n",
    "# Save to front-end too!\n",
    "client_dir = \"../client/src/projects/hive/data/clean\"\n",
    "final.to_csv(\"{}/{}_{}.csv\".format(client_dir,session,colour), sep=',', encoding='utf-8', index=False)"
   ]
  },
  {
   "cell_type": "code",
   "execution_count": 25,
   "metadata": {},
   "outputs": [
    {
     "data": {
      "text/html": [
       "<div>\n",
       "<style scoped>\n",
       "    .dataframe tbody tr th:only-of-type {\n",
       "        vertical-align: middle;\n",
       "    }\n",
       "\n",
       "    .dataframe tbody tr th {\n",
       "        vertical-align: top;\n",
       "    }\n",
       "\n",
       "    .dataframe thead th {\n",
       "        text-align: right;\n",
       "    }\n",
       "</style>\n",
       "<table border=\"1\" class=\"dataframe\">\n",
       "  <thead>\n",
       "    <tr style=\"text-align: right;\">\n",
       "      <th></th>\n",
       "      <th>audio_start_timestamp</th>\n",
       "      <th>audio time</th>\n",
       "      <th>x</th>\n",
       "      <th>y</th>\n",
       "      <th>audio</th>\n",
       "      <th>tagId</th>\n",
       "    </tr>\n",
       "  </thead>\n",
       "  <tbody>\n",
       "    <tr>\n",
       "      <th>0</th>\n",
       "      <td>1.628574e+09</td>\n",
       "      <td>0:00:01</td>\n",
       "      <td>1622.484799</td>\n",
       "      <td>-1751.742400</td>\n",
       "      <td>0</td>\n",
       "      <td>RED</td>\n",
       "    </tr>\n",
       "    <tr>\n",
       "      <th>1</th>\n",
       "      <td>1.628574e+09</td>\n",
       "      <td>0:00:02</td>\n",
       "      <td>1630.707280</td>\n",
       "      <td>-1740.337025</td>\n",
       "      <td>0</td>\n",
       "      <td>RED</td>\n",
       "    </tr>\n",
       "    <tr>\n",
       "      <th>2</th>\n",
       "      <td>1.628574e+09</td>\n",
       "      <td>0:00:03</td>\n",
       "      <td>1612.197550</td>\n",
       "      <td>-1719.646249</td>\n",
       "      <td>0</td>\n",
       "      <td>RED</td>\n",
       "    </tr>\n",
       "    <tr>\n",
       "      <th>3</th>\n",
       "      <td>1.628574e+09</td>\n",
       "      <td>0:00:04</td>\n",
       "      <td>1615.000000</td>\n",
       "      <td>-1683.000000</td>\n",
       "      <td>0</td>\n",
       "      <td>RED</td>\n",
       "    </tr>\n",
       "    <tr>\n",
       "      <th>4</th>\n",
       "      <td>1.628574e+09</td>\n",
       "      <td>0:00:05</td>\n",
       "      <td>1615.000000</td>\n",
       "      <td>-1683.000000</td>\n",
       "      <td>0</td>\n",
       "      <td>RED</td>\n",
       "    </tr>\n",
       "    <tr>\n",
       "      <th>...</th>\n",
       "      <td>...</td>\n",
       "      <td>...</td>\n",
       "      <td>...</td>\n",
       "      <td>...</td>\n",
       "      <td>...</td>\n",
       "      <td>...</td>\n",
       "    </tr>\n",
       "    <tr>\n",
       "      <th>7907</th>\n",
       "      <td>1.628574e+09</td>\n",
       "      <td>0:33:04</td>\n",
       "      <td>2156.005812</td>\n",
       "      <td>2669.981103</td>\n",
       "      <td>1</td>\n",
       "      <td>GREEN</td>\n",
       "    </tr>\n",
       "    <tr>\n",
       "      <th>7908</th>\n",
       "      <td>1.628574e+09</td>\n",
       "      <td>0:33:05</td>\n",
       "      <td>1911.743110</td>\n",
       "      <td>2484.324649</td>\n",
       "      <td>1</td>\n",
       "      <td>GREEN</td>\n",
       "    </tr>\n",
       "    <tr>\n",
       "      <th>7909</th>\n",
       "      <td>1.628574e+09</td>\n",
       "      <td>0:33:06</td>\n",
       "      <td>1713.992663</td>\n",
       "      <td>2338.762977</td>\n",
       "      <td>1</td>\n",
       "      <td>GREEN</td>\n",
       "    </tr>\n",
       "    <tr>\n",
       "      <th>7910</th>\n",
       "      <td>1.628574e+09</td>\n",
       "      <td>0:33:07</td>\n",
       "      <td>1587.541845</td>\n",
       "      <td>2250.186317</td>\n",
       "      <td>1</td>\n",
       "      <td>GREEN</td>\n",
       "    </tr>\n",
       "    <tr>\n",
       "      <th>7911</th>\n",
       "      <td>1.628574e+09</td>\n",
       "      <td>0:33:08</td>\n",
       "      <td>1295.216747</td>\n",
       "      <td>2089.510110</td>\n",
       "      <td>1</td>\n",
       "      <td>GREEN</td>\n",
       "    </tr>\n",
       "  </tbody>\n",
       "</table>\n",
       "<p>7912 rows × 6 columns</p>\n",
       "</div>"
      ],
      "text/plain": [
       "      audio_start_timestamp audio time            x            y  audio  tagId\n",
       "0              1.628574e+09    0:00:01  1622.484799 -1751.742400      0    RED\n",
       "1              1.628574e+09    0:00:02  1630.707280 -1740.337025      0    RED\n",
       "2              1.628574e+09    0:00:03  1612.197550 -1719.646249      0    RED\n",
       "3              1.628574e+09    0:00:04  1615.000000 -1683.000000      0    RED\n",
       "4              1.628574e+09    0:00:05  1615.000000 -1683.000000      0    RED\n",
       "...                     ...        ...          ...          ...    ...    ...\n",
       "7907           1.628574e+09    0:33:04  2156.005812  2669.981103      1  GREEN\n",
       "7908           1.628574e+09    0:33:05  1911.743110  2484.324649      1  GREEN\n",
       "7909           1.628574e+09    0:33:06  1713.992663  2338.762977      1  GREEN\n",
       "7910           1.628574e+09    0:33:07  1587.541845  2250.186317      1  GREEN\n",
       "7911           1.628574e+09    0:33:08  1295.216747  2089.510110      1  GREEN\n",
       "\n",
       "[7912 rows x 6 columns]"
      ]
     },
     "execution_count": 25,
     "metadata": {},
     "output_type": "execute_result"
    }
   ],
   "source": [
    "\n",
    "# combine all data\n",
    "df = pd.concat(map(pd.read_csv, ['{}/{}_RED.csv'.format(client_dir, session), '{}/{}_YELLOW.csv'.format(client_dir, session), '{}/{}_BLUE.csv'.format(client_dir, session),'{}/{}_GREEN.csv'.format(client_dir, session)]), ignore_index=True)\n",
    "\n",
    "df.to_csv(\"../client/src/projects/hive/data/clean/{}_all.csv\".format(session), sep=',', encoding='utf-8', index=False)\n",
    "\n",
    "df"
   ]
  }
 ],
 "metadata": {
  "kernelspec": {
   "display_name": "Python 3.9.12 ('base')",
   "language": "python",
   "name": "python3"
  },
  "language_info": {
   "codemirror_mode": {
    "name": "ipython",
    "version": 3
   },
   "file_extension": ".py",
   "mimetype": "text/x-python",
   "name": "python",
   "nbconvert_exporter": "python",
   "pygments_lexer": "ipython3",
   "version": "3.9.12"
  },
  "orig_nbformat": 4,
  "vscode": {
   "interpreter": {
    "hash": "4f3a700aa1fbfda629320bee4d8ef975097bc730cb184fbdbc1827747ea36212"
   }
  }
 },
 "nbformat": 4,
 "nbformat_minor": 2
}
