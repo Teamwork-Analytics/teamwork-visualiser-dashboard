{
 "cells": [
  {
   "cell_type": "code",
   "execution_count": 1,
   "metadata": {},
   "outputs": [],
   "source": [
    "import pandas as pd\n",
    "from datetime import datetime\n",
    "\n",
    "session = \"181\"\n",
    "pos_dir = './out/pos'\n",
    "data_dir = \"./data/{}\".format(session)\n"
   ]
  },
  {
   "cell_type": "code",
   "execution_count": 2,
   "metadata": {},
   "outputs": [
    {
     "name": "stdout",
     "output_type": "stream",
     "text": [
      "\n",
      "all done!\n"
     ]
    }
   ],
   "source": [
    "\"\"\"\n",
    "@author Riordan Dervin Alfredo <riordan.alfredo@monash.edu>\n",
    "\"\"\"\n",
    "# Run to extract all pozyx position data\n",
    "# json -> csv\n",
    "\n",
    "data_in = \"{}/{}.json\".format(data_dir, session)\n",
    "sync_path = \"{}/sync.txt\".format(data_dir)\n",
    "%run pozyx_extraction.py -p $data_in -o \"out/pos/\" -s {sync_path}"
   ]
  },
  {
   "cell_type": "code",
   "execution_count": 21,
   "metadata": {},
   "outputs": [],
   "source": [
    "colour = \"YELLOW\"\n",
    "file_date = \"18-Aug-2021_15-33-14-715\""
   ]
  },
  {
   "cell_type": "code",
   "execution_count": 22,
   "metadata": {},
   "outputs": [
    {
     "name": "stdout",
     "output_type": "stream",
     "text": [
      "./data/181/simulation_YELLOW_18-Aug-2021_15-33-14-715_audio.wav\n",
      "./data/181/sim_YELLOW.wav\n"
     ]
    },
    {
     "name": "stderr",
     "output_type": "stream",
     "text": [
      "ffmpeg version 2022-07-04-git-dba7376d59-full_build-www.gyan.dev Copyright (c) 2000-2022 the FFmpeg developers\n",
      "  built with gcc 12.1.0 (Rev2, Built by MSYS2 project)\n",
      "  configuration: --enable-gpl --enable-version3 --enable-static --disable-w32threads --disable-autodetect --enable-fontconfig --enable-iconv --enable-gnutls --enable-libxml2 --enable-gmp --enable-bzlib --enable-lzma --enable-libsnappy --enable-zlib --enable-librist --enable-libsrt --enable-libssh --enable-libzmq --enable-avisynth --enable-libbluray --enable-libcaca --enable-sdl2 --enable-libdav1d --enable-libdavs2 --enable-libuavs3d --enable-libzvbi --enable-librav1e --enable-libsvtav1 --enable-libwebp --enable-libx264 --enable-libx265 --enable-libxavs2 --enable-libxvid --enable-libaom --enable-libjxl --enable-libopenjpeg --enable-libvpx --enable-mediafoundation --enable-libass --enable-frei0r --enable-libfreetype --enable-libfribidi --enable-liblensfun --enable-libvidstab --enable-libvmaf --enable-libzimg --enable-amf --enable-cuda-llvm --enable-cuvid --enable-ffnvcodec --enable-nvdec --enable-nvenc --enable-d3d11va --enable-dxva2 --enable-libmfx --enable-libshaderc --enable-vulkan --enable-libplacebo --enable-opencl --enable-libcdio --enable-libgme --enable-libmodplug --enable-libopenmpt --enable-libopencore-amrwb --enable-libmp3lame --enable-libshine --enable-libtheora --enable-libtwolame --enable-libvo-amrwbenc --enable-libilbc --enable-libgsm --enable-libopencore-amrnb --enable-libopus --enable-libspeex --enable-libvorbis --enable-ladspa --enable-libbs2b --enable-libflite --enable-libmysofa --enable-librubberband --enable-libsoxr --enable-chromaprint\n",
      "  libavutil      57. 27.100 / 57. 27.100\n",
      "  libavcodec     59. 36.100 / 59. 36.100\n",
      "  libavformat    59. 26.100 / 59. 26.100\n",
      "  libavdevice    59.  6.100 / 59.  6.100\n",
      "  libavfilter     8. 41.100 /  8. 41.100\n",
      "  libswscale      6.  6.100 /  6.  6.100\n",
      "  libswresample   4.  6.100 /  4.  6.100\n",
      "  libpostproc    56.  5.100 / 56.  5.100\n",
      "Guessed Channel Layout for Input Stream #0.0 : mono\n",
      "Input #0, wav, from './data/181/simulation_YELLOW_18-Aug-2021_15-33-14-715_audio.wav':\n",
      "  Duration: 00:27:26.05, bitrate: 705 kb/s\n",
      "  Stream #0:0: Audio: pcm_s16le ([1][0][0][0] / 0x0001), 44100 Hz, mono, s16, 705 kb/s\n",
      "Stream mapping:\n",
      "  Stream #0:0 -> #0:0 (pcm_s16le (native) -> pcm_s16le (native))\n",
      "Press [q] to stop, [?] for help\n",
      "Output #0, wav, to './data/181/sim_YELLOW.wav':\n",
      "  Metadata:\n",
      "    ISFT            : Lavf59.26.100\n",
      "  Stream #0:0: Audio: pcm_s16le ([1][0][0][0] / 0x0001), 48000 Hz, mono, s16, 768 kb/s\n",
      "    Metadata:\n",
      "      encoder         : Lavc59.36.100 pcm_s16le\n",
      "size=       4kB time=00:00:00.04 bitrate= 781.5kbits/s speed=N/A    \n",
      "size=  115200kB time=00:20:29.31 bitrate= 767.7kbits/s speed=2.46e+03x    \n",
      "size=  154317kB time=00:27:26.05 bitrate= 768.0kbits/s speed=2.44e+03x    \n",
      "video:0kB audio:154317kB subtitle:0kB other streams:0kB global headers:0kB muxing overhead: 0.000049%\n"
     ]
    }
   ],
   "source": [
    "# install it separately https://ffmpeg.org/. Use this to re-sample audio data to 48KHz\n",
    "# \n",
    "audio_in = \"{}/simulation_{}_{}_audio.wav\".format(data_dir,colour,file_date)\n",
    "audio_out = \"{}/sim_{}.wav\".format(data_dir,colour)\n",
    "\n",
    "print(audio_in)\n",
    "print(audio_out)\n",
    "\n",
    "!ffmpeg -i {audio_in} -ar 48000 {audio_out}"
   ]
  },
  {
   "cell_type": "code",
   "execution_count": 23,
   "metadata": {},
   "outputs": [
    {
     "name": "stdout",
     "output_type": "stream",
     "text": [
      "start\n",
      "here\n",
      " before vad\n",
      "1646.0509791666666\n",
      "thread_started: speech2text thread 0\n"
     ]
    },
    {
     "data": {
      "application/vnd.jupyter.widget-view+json": {
       "model_id": "12ed10d339094f47ba40936e8976a5d9",
       "version_major": 2,
       "version_minor": 0
      },
      "text/plain": [
       "  0%|          | 0/24 [00:00<?, ?it/s]"
      ]
     },
     "metadata": {},
     "output_type": "display_data"
    },
    {
     "name": "stdout",
     "output_type": "stream",
     "text": [
      "thread_started: speech2text thread 1\n",
      "thread_started: speech2text thread 2\n"
     ]
    },
    {
     "data": {
      "application/vnd.jupyter.widget-view+json": {
       "model_id": "8b61b9caefe8479091dd572093826ac0",
       "version_major": 2,
       "version_minor": 0
      },
      "text/plain": [
       "  0%|          | 0/24 [00:00<?, ?it/s]"
      ]
     },
     "metadata": {},
     "output_type": "display_data"
    },
    {
     "data": {
      "application/vnd.jupyter.widget-view+json": {
       "model_id": "8195b7417b1b410a9ea9ff60d9700686",
       "version_major": 2,
       "version_minor": 0
      },
      "text/plain": [
       "  0%|          | 0/24 [00:00<?, ?it/s]"
      ]
     },
     "metadata": {},
     "output_type": "display_data"
    },
    {
     "name": "stdout",
     "output_type": "stream",
     "text": [
      "thread_finished: speech2text thread 0\n",
      "thread_finished: speech2text thread 2\n",
      "thread_finished: speech2text thread 1\n",
      "object\n"
     ]
    }
   ],
   "source": [
    "# TODO: replace audio file name!\n",
    "# A script to convert speech to text, wav -> csv\n",
    "audio_sim_dir = './out/audio-sim'\n",
    "audio_csv_out = \"{}/{}_{}.csv\".format(audio_sim_dir, session, colour)\n",
    "\n",
    "%run hive_automation.py -a {audio_out} -o {audio_csv_out} -s \"145\" -w \"1\" -t \"3\""
   ]
  },
  {
   "cell_type": "code",
   "execution_count": 18,
   "metadata": {},
   "outputs": [
    {
     "data": {
      "text/html": [
       "<div>\n",
       "<style scoped>\n",
       "    .dataframe tbody tr th:only-of-type {\n",
       "        vertical-align: middle;\n",
       "    }\n",
       "\n",
       "    .dataframe tbody tr th {\n",
       "        vertical-align: top;\n",
       "    }\n",
       "\n",
       "    .dataframe thead th {\n",
       "        text-align: right;\n",
       "    }\n",
       "</style>\n",
       "<table border=\"1\" class=\"dataframe\">\n",
       "  <thead>\n",
       "    <tr style=\"text-align: right;\">\n",
       "      <th></th>\n",
       "      <th>Unnamed: 0</th>\n",
       "      <th>audio_start_timestamp</th>\n",
       "      <th>audio time</th>\n",
       "      <th>x</th>\n",
       "      <th>y</th>\n",
       "    </tr>\n",
       "  </thead>\n",
       "  <tbody>\n",
       "    <tr>\n",
       "      <th>0</th>\n",
       "      <td>0</td>\n",
       "      <td>1.629265e+09</td>\n",
       "      <td>0:11:45</td>\n",
       "      <td>1506.267849</td>\n",
       "      <td>-1330.691270</td>\n",
       "    </tr>\n",
       "    <tr>\n",
       "      <th>1</th>\n",
       "      <td>1</td>\n",
       "      <td>1.629265e+09</td>\n",
       "      <td>0:11:46</td>\n",
       "      <td>1571.551551</td>\n",
       "      <td>-1209.885914</td>\n",
       "    </tr>\n",
       "    <tr>\n",
       "      <th>2</th>\n",
       "      <td>2</td>\n",
       "      <td>1.629265e+09</td>\n",
       "      <td>0:11:47</td>\n",
       "      <td>1711.205829</td>\n",
       "      <td>-966.520268</td>\n",
       "    </tr>\n",
       "    <tr>\n",
       "      <th>3</th>\n",
       "      <td>3</td>\n",
       "      <td>1.629265e+09</td>\n",
       "      <td>0:11:48</td>\n",
       "      <td>1809.562382</td>\n",
       "      <td>-785.917458</td>\n",
       "    </tr>\n",
       "    <tr>\n",
       "      <th>4</th>\n",
       "      <td>4</td>\n",
       "      <td>1.629265e+09</td>\n",
       "      <td>0:11:49</td>\n",
       "      <td>1841.747898</td>\n",
       "      <td>-669.764675</td>\n",
       "    </tr>\n",
       "  </tbody>\n",
       "</table>\n",
       "</div>"
      ],
      "text/plain": [
       "   Unnamed: 0  audio_start_timestamp audio time            x            y\n",
       "0           0           1.629265e+09    0:11:45  1506.267849 -1330.691270\n",
       "1           1           1.629265e+09    0:11:46  1571.551551 -1209.885914\n",
       "2           2           1.629265e+09    0:11:47  1711.205829  -966.520268\n",
       "3           3           1.629265e+09    0:11:48  1809.562382  -785.917458\n",
       "4           4           1.629265e+09    0:11:49  1841.747898  -669.764675"
      ]
     },
     "execution_count": 18,
     "metadata": {},
     "output_type": "execute_result"
    }
   ],
   "source": [
    "# combine position and audio information\n",
    "\n",
    "dfp = pd.read_csv('{}/{}_{}.csv'.format(pos_dir,session,colour))\n",
    "dfa = pd.read_csv('{}/{}_{}.csv'.format(audio_sim_dir,session,colour))\n",
    "\n",
    "dfp.head()"
   ]
  },
  {
   "cell_type": "code",
   "execution_count": 19,
   "metadata": {},
   "outputs": [
    {
     "data": {
      "text/html": [
       "<div>\n",
       "<style scoped>\n",
       "    .dataframe tbody tr th:only-of-type {\n",
       "        vertical-align: middle;\n",
       "    }\n",
       "\n",
       "    .dataframe tbody tr th {\n",
       "        vertical-align: top;\n",
       "    }\n",
       "\n",
       "    .dataframe thead th {\n",
       "        text-align: right;\n",
       "    }\n",
       "</style>\n",
       "<table border=\"1\" class=\"dataframe\">\n",
       "  <thead>\n",
       "    <tr style=\"text-align: right;\">\n",
       "      <th></th>\n",
       "      <th>audio_start_timestamp</th>\n",
       "      <th>audio time</th>\n",
       "      <th>x</th>\n",
       "      <th>y</th>\n",
       "      <th>audio</th>\n",
       "      <th>tagId</th>\n",
       "    </tr>\n",
       "  </thead>\n",
       "  <tbody>\n",
       "    <tr>\n",
       "      <th>0</th>\n",
       "      <td>1.629265e+09</td>\n",
       "      <td>0:11:45</td>\n",
       "      <td>1506.267849</td>\n",
       "      <td>-1330.691270</td>\n",
       "      <td>0</td>\n",
       "      <td>GREEN</td>\n",
       "    </tr>\n",
       "    <tr>\n",
       "      <th>1</th>\n",
       "      <td>1.629265e+09</td>\n",
       "      <td>0:11:46</td>\n",
       "      <td>1571.551551</td>\n",
       "      <td>-1209.885914</td>\n",
       "      <td>0</td>\n",
       "      <td>GREEN</td>\n",
       "    </tr>\n",
       "    <tr>\n",
       "      <th>2</th>\n",
       "      <td>1.629265e+09</td>\n",
       "      <td>0:11:47</td>\n",
       "      <td>1711.205829</td>\n",
       "      <td>-966.520268</td>\n",
       "      <td>0</td>\n",
       "      <td>GREEN</td>\n",
       "    </tr>\n",
       "    <tr>\n",
       "      <th>3</th>\n",
       "      <td>1.629265e+09</td>\n",
       "      <td>0:11:48</td>\n",
       "      <td>1809.562382</td>\n",
       "      <td>-785.917458</td>\n",
       "      <td>0</td>\n",
       "      <td>GREEN</td>\n",
       "    </tr>\n",
       "    <tr>\n",
       "      <th>4</th>\n",
       "      <td>1.629265e+09</td>\n",
       "      <td>0:11:49</td>\n",
       "      <td>1841.747898</td>\n",
       "      <td>-669.764675</td>\n",
       "      <td>0</td>\n",
       "      <td>GREEN</td>\n",
       "    </tr>\n",
       "  </tbody>\n",
       "</table>\n",
       "</div>"
      ],
      "text/plain": [
       "   audio_start_timestamp audio time            x            y  audio  tagId\n",
       "0           1.629265e+09    0:11:45  1506.267849 -1330.691270      0  GREEN\n",
       "1           1.629265e+09    0:11:46  1571.551551 -1209.885914      0  GREEN\n",
       "2           1.629265e+09    0:11:47  1711.205829  -966.520268      0  GREEN\n",
       "3           1.629265e+09    0:11:48  1809.562382  -785.917458      0  GREEN\n",
       "4           1.629265e+09    0:11:49  1841.747898  -669.764675      0  GREEN"
      ]
     },
     "execution_count": 19,
     "metadata": {},
     "output_type": "execute_result"
    }
   ],
   "source": [
    "res = pd.merge(dfp, dfa, on=\"audio time\")\n",
    "final = res.drop(labels=[\"Unnamed: 0_x\", \"Unnamed: 0_y\", \"session\"], axis=1)\n",
    "final['tagId'] = colour\n",
    "final.head()"
   ]
  },
  {
   "cell_type": "code",
   "execution_count": 20,
   "metadata": {},
   "outputs": [],
   "source": [
    "\n",
    "result_dir =  \"./out/result\"\n",
    "result_csv = \"{}/{}_{}.csv\".format(result_dir,session,colour)\n",
    "final.to_csv(result_csv, sep=',', encoding='utf-8', index=False)\n",
    "\n",
    "# Save to front-end too!\n",
    "# final.to_csv(\"{}/{}_{}.csv\".format(client_dir,session,colour), sep=',', encoding='utf-8', index=False)"
   ]
  },
  {
   "cell_type": "markdown",
   "metadata": {},
   "source": [
    "# Before you continue...\n",
    "Please repeat all available colours before combining them in the following code cells"
   ]
  },
  {
   "cell_type": "code",
   "execution_count": null,
   "metadata": {},
   "outputs": [],
   "source": [
    "\n",
    "# combine all data\n",
    "df = pd.concat(map(pd.read_csv, [\n",
    "    '{}/{}_RED.csv'.format(result_dir, session), \n",
    "    '{}/{}_YELLOW.csv'.format(result_dir, session), \n",
    "    '{}/{}_BLUE.csv'.format(result_dir, session),\n",
    "    '{}/{}_GREEN.csv'.format(result_dir, session)]), ignore_index=True)\n",
    "\n",
    "df = df.sort_values(by='audio time')"
   ]
  },
  {
   "cell_type": "code",
   "execution_count": null,
   "metadata": {},
   "outputs": [],
   "source": [
    "client_dir = \"../client/src/projects/hive/data\"\n",
    "df.to_csv(\"{}/{}_all.csv\".format(client_dir,session), sep=',', encoding='utf-8', index=False)\n",
    "\n",
    "df"
   ]
  }
 ],
 "metadata": {
  "kernelspec": {
   "display_name": "Python 3.9.12 ('base')",
   "language": "python",
   "name": "python3"
  },
  "language_info": {
   "codemirror_mode": {
    "name": "ipython",
    "version": 3
   },
   "file_extension": ".py",
   "mimetype": "text/x-python",
   "name": "python",
   "nbconvert_exporter": "python",
   "pygments_lexer": "ipython3",
   "version": "3.9.12"
  },
  "orig_nbformat": 4,
  "vscode": {
   "interpreter": {
    "hash": "4f3a700aa1fbfda629320bee4d8ef975097bc730cb184fbdbc1827747ea36212"
   }
  }
 },
 "nbformat": 4,
 "nbformat_minor": 2
}
